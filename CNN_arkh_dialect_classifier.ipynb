{
  "nbformat": 4,
  "nbformat_minor": 0,
  "metadata": {
    "colab": {
      "provenance": []
    },
    "kernelspec": {
      "name": "python3",
      "display_name": "Python 3"
    },
    "language_info": {
      "name": "python"
    }
  },
  "cells": [
    {
      "cell_type": "code",
      "execution_count": null,
      "metadata": {
        "id": "Qo7mpAT-Ioj-"
      },
      "outputs": [],
      "source": [
        "import tensorflow as tf\n",
        "from tensorflow.keras.models import load_model\n",
        "import numpy as np"
      ]
    },
    {
      "cell_type": "code",
      "source": [
        "vocab = 'абвгдежзийклмнопрстуфхцчшщъыьэюя'\n",
        "vocab_to_int = {word: i + 1 for i, word in enumerate(vocab)}\n",
        "\n",
        "# add padding\n",
        "vocab_to_int['PAD'] = 0\n",
        "\n",
        "# vocab size\n",
        "vocab_size = len(vocab_to_int.keys())\n",
        "vocab_size\n",
        "\n",
        "def encode(text, max_char_length=20):\n",
        "    encoded = np.zeros([max_char_length, vocab_size], dtype=int)\n",
        "    i = 0\n",
        "    for letter in text:\n",
        "        if i >= max_char_length:\n",
        "            break\n",
        "        if letter.lower() in vocab_to_int:\n",
        "            encoded[i][vocab_to_int[letter.lower()]] = 1\n",
        "        i += 1\n",
        "    return encoded"
      ],
      "metadata": {
        "id": "8mcchp_IJup-"
      },
      "execution_count": null,
      "outputs": []
    },
    {
      "cell_type": "code",
      "source": [
        "def encode_word(word, max_char_length=20):\n",
        "  word = encode(word)\n",
        "  word = word.astype('float32')\n",
        "  word = word.reshape(1, max_char_length, vocab_size)\n",
        "  return word"
      ],
      "metadata": {
        "id": "anh1GkgrJpZw"
      },
      "execution_count": null,
      "outputs": []
    },
    {
      "cell_type": "markdown",
      "source": [
        "наблюдник - словообразовательное,\n",
        "\n",
        "рукотерник - словообразовательное,\n",
        "\n",
        "улеч - грамматическое,\n",
        "\n",
        "итти - фонетическое,\n",
        "\n",
        "сумет - лексическое,\n",
        "\n",
        "халупа - лексическое\n"
      ],
      "metadata": {
        "id": "ELodmZ4-Q2Qf"
      }
    },
    {
      "cell_type": "code",
      "source": [
        "words = ['наблюдник',\n",
        "        'рукотерник',\n",
        "        'улеч',\n",
        "        'итти',\n",
        "        'мучонка',\n",
        "        'сумет',\n",
        "        'халупа']\n",
        "test_data = {w: encode_word(w) for w in words}"
      ],
      "metadata": {
        "id": "jjtI8luxKfyf"
      },
      "execution_count": null,
      "outputs": []
    },
    {
      "cell_type": "code",
      "source": [
        "dec = ['Фонетическая', 'Словообразовательная', 'Лексическая', 'Грамматическая']"
      ],
      "metadata": {
        "id": "U4gip2UBOhM9"
      },
      "execution_count": null,
      "outputs": []
    },
    {
      "cell_type": "code",
      "source": [
        "model = load_model('cnn_uni.keras')\n",
        "for word, encoded_word in test_data.items():\n",
        "    prediction = model.predict(encoded_word)\n",
        "    print(f'{word} принадлежит к категории: {np.argmax(prediction), dec[np.argmax(prediction)]}.')\n",
        "    print(f'Вероятность по всем классам: {prediction}')"
      ],
      "metadata": {
        "colab": {
          "base_uri": "https://localhost:8080/"
        },
        "id": "W03btIVyJaAC",
        "outputId": "5da64676-b120-4439-9b38-26918822d656"
      },
      "execution_count": null,
      "outputs": [
        {
          "output_type": "stream",
          "name": "stdout",
          "text": [
            "\u001b[1m1/1\u001b[0m \u001b[32m━━━━━━━━━━━━━━━━━━━━\u001b[0m\u001b[37m\u001b[0m \u001b[1m0s\u001b[0m 149ms/step\n",
            "наблюдник принадлежит к категории: (1, 'Словообразовательное').\n",
            "Вероятность по всем классам: [[0.04322779 0.78569305 0.1339468  0.03713239]]\n",
            "\u001b[1m1/1\u001b[0m \u001b[32m━━━━━━━━━━━━━━━━━━━━\u001b[0m\u001b[37m\u001b[0m \u001b[1m0s\u001b[0m 28ms/step\n",
            "рукотерник принадлежит к категории: (1, 'Словообразовательное').\n",
            "Вероятность по всем классам: [[0.04981829 0.8059546  0.109111   0.03511619]]\n",
            "\u001b[1m1/1\u001b[0m \u001b[32m━━━━━━━━━━━━━━━━━━━━\u001b[0m\u001b[37m\u001b[0m \u001b[1m0s\u001b[0m 35ms/step\n",
            "улеч принадлежит к категории: (3, 'Грамматическое').\n",
            "Вероятность по всем классам: [[0.25061318 0.16208398 0.28646523 0.30083764]]\n",
            "\u001b[1m1/1\u001b[0m \u001b[32m━━━━━━━━━━━━━━━━━━━━\u001b[0m\u001b[37m\u001b[0m \u001b[1m0s\u001b[0m 31ms/step\n",
            "итти принадлежит к категории: (2, 'Лексическое').\n",
            "Вероятность по всем классам: [[0.25041297 0.13182154 0.3099734  0.30779216]]\n",
            "\u001b[1m1/1\u001b[0m \u001b[32m━━━━━━━━━━━━━━━━━━━━\u001b[0m\u001b[37m\u001b[0m \u001b[1m0s\u001b[0m 50ms/step\n",
            "мучонка принадлежит к категории: (1, 'Словообразовательное').\n",
            "Вероятность по всем классам: [[0.07601828 0.4325802  0.35339296 0.13800855]]\n",
            "\u001b[1m1/1\u001b[0m \u001b[32m━━━━━━━━━━━━━━━━━━━━\u001b[0m\u001b[37m\u001b[0m \u001b[1m0s\u001b[0m 33ms/step\n",
            "сумет принадлежит к категории: (3, 'Грамматическое').\n",
            "Вероятность по всем классам: [[0.25990066 0.13218929 0.29121202 0.31669807]]\n",
            "\u001b[1m1/1\u001b[0m \u001b[32m━━━━━━━━━━━━━━━━━━━━\u001b[0m\u001b[37m\u001b[0m \u001b[1m0s\u001b[0m 35ms/step\n",
            "халупа принадлежит к категории: (2, 'Лексическое').\n",
            "Вероятность по всем классам: [[0.18892726 0.15981951 0.4339763  0.2172769 ]]\n"
          ]
        }
      ]
    },
    {
      "cell_type": "code",
      "source": [],
      "metadata": {
        "id": "ko3wrLJ_OmTj"
      },
      "execution_count": null,
      "outputs": []
    }
  ]
}